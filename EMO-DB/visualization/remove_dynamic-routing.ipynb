{
 "cells": [
  {
   "cell_type": "code",
   "execution_count": 1,
   "metadata": {},
   "outputs": [],
   "source": [
    "from my_models import *\n",
    "import numpy as np\n",
    "from Config import Config\n",
    "from tensorflow.keras.utils import to_categorical"
   ]
  },
  {
   "cell_type": "code",
   "execution_count": 2,
   "metadata": {},
   "outputs": [],
   "source": [
    "from utils import seed_everything\n",
    "seed_everything(42)"
   ]
  },
  {
   "cell_type": "code",
   "execution_count": 3,
   "metadata": {},
   "outputs": [],
   "source": [
    "DATA_ROOT = Config.DATA_ROOT\n",
    "DATA_PATH = 'EMODB'\n",
    "CLASS_LABELS = Config.EMODB_LABELS\n",
    "k = 10\n",
    "\n",
    "h5_path = 'models/EMODB/proposed_remove_capsule_2-fold_.h5'\n",
    "feature_name = 'mfcc'\n",
    "\n",
    "learning_rate=0.001\n",
    "beta_1=0.975\n",
    "beta_2=0.932\n",
    "epsilon=1e-8\n",
    "\n",
    "EPOCHS = 300\n",
    "BATCH = 32"
   ]
  },
  {
   "cell_type": "code",
   "execution_count": 4,
   "metadata": {},
   "outputs": [],
   "source": [
    "# Read data\n",
    "with open(f'{DATA_ROOT}/{DATA_PATH}.npy', 'rb') as f:\n",
    "    x = np.load(f)\n",
    "    y = np.load(f)\n",
    "\n",
    "y = to_categorical(y,num_classes=len(CLASS_LABELS))"
   ]
  },
  {
   "cell_type": "code",
   "execution_count": 5,
   "metadata": {},
   "outputs": [],
   "source": [
    "from sklearn.model_selection import KFold\n",
    "import tensorflow as tf\n",
    "\n",
    "x_test = None\n",
    "y_test = None\n",
    "\n",
    "kfold = KFold(n_splits=k, shuffle=True, random_state=98)\n",
    "\n",
    "for i, (train, test) in enumerate(kfold.split(x, y)):\n",
    "    if i != Config.EMODB_BEST_FOLD:\n",
    "        continue\n",
    "    \n",
    "    x_test, y_test = x[test], y[test]\n",
    "    x_test = tf.expand_dims(x_test, axis=-1)\n",
    "    break"
   ]
  },
  {
   "cell_type": "code",
   "execution_count": 6,
   "metadata": {},
   "outputs": [],
   "source": [
    "class Model(tf.keras.Model):\n",
    "\n",
    "  def __init__(self, num_classes):\n",
    "    super().__init__()\n",
    "    \n",
    "    self.conv1 = Sequential([\n",
    "      Conv2D(filters=64, kernel_size=3),\n",
    "      BatchNormalization(axis=1),\n",
    "      Activation('elu'),\n",
    "      AveragePooling2D(),\n",
    "      SpatialDropout2D(0.2)\n",
    "    ])\n",
    "    \n",
    "    self.conv2 = Sequential([\n",
    "      Conv2D(filters=64, kernel_size=3, dilation_rate=2),\n",
    "      BatchNormalization(axis=1),\n",
    "      Activation('elu'),\n",
    "      AveragePooling2D(),\n",
    "      SpatialDropout2D(0.2),\n",
    "    ])\n",
    "    \n",
    "    self.cbam = CBAM(64) # sharing\n",
    "    \n",
    "    self.primarycap = PrimaryCap()\n",
    "    self.spatial_attn = SpatialGate()\n",
    "    \n",
    "    self.attention = Attention(use_scale=True)\n",
    "    self.LN = LayerNormalization()\n",
    "    \n",
    "    self.lamb = Lambda(lambda x: tf.multiply(x[0], x[1]))\n",
    "    \n",
    "    self.capsule = Capsule(6,64,3,True)\n",
    "    self.gap = GlobalAveragePooling1D()\n",
    "    self.dropout = Dropout(0.2)\n",
    "    self.classifier = Dense(num_classes, activation='softmax')\n",
    "    \n",
    "    \n",
    "  def call(self, inputs):\n",
    "    x = inputs\n",
    "    \n",
    "    cap = self.conv1(x)\n",
    "    cap = cap + self.cbam(cap)\n",
    "    cap = self.conv2(cap)\n",
    "    cap = cap + self.cbam(cap)\n",
    "    \n",
    "    primarycaps = self.primarycap(cap)\n",
    "    primarycaps = tf.expand_dims(primarycaps, axis=-1)\n",
    "    primarycaps = primarycaps + self.spatial_attn(primarycaps)\n",
    "    primarycaps = tf.squeeze(primarycaps, axis=-1)\n",
    "    \n",
    "    cap = primarycaps\n",
    "    \n",
    "    sa = self.attention([primarycaps, primarycaps, primarycaps])\n",
    "    sa = self.LN(sa)\n",
    "    \n",
    "    sa = tf.expand_dims(sa, axis=-1)\n",
    "    sa = sa + self.spatial_attn(sa)\n",
    "    sa = tf.squeeze(sa, axis=-1)\n",
    "    \n",
    "    cap = self.lamb([cap, sa])\n",
    "    cap = tf.expand_dims(cap, axis=-1)\n",
    "    cap = cap + self.spatial_attn(cap)\n",
    "    cap = tf.squeeze(cap, axis=-1)\n",
    "    \n",
    "    gap = self.gap(cap)\n",
    "    drop = self.dropout(gap)\n",
    "    \n",
    "    output_softmax = self.classifier(drop)\n",
    "    return output_softmax"
   ]
  },
  {
   "cell_type": "code",
   "execution_count": 7,
   "metadata": {},
   "outputs": [],
   "source": [
    "origin = Model(len(CLASS_LABELS))\n",
    "origin.build(input_shape=x_test.shape)\n",
    "origin.load_weights(h5_path)"
   ]
  },
  {
   "cell_type": "code",
   "execution_count": 8,
   "metadata": {},
   "outputs": [],
   "source": [
    "def get_layers_weights(origin_model, until=-3):\n",
    "    \"\"\"_summary_\n",
    "\n",
    "    Args:\n",
    "        origin_model (_type_): _description_\n",
    "        until (int, optional): _description_. Defaults to -3.\n",
    "\n",
    "    Returns:\n",
    "        _type_: _description_\n",
    "    \"\"\"\n",
    "    ret = []\n",
    "    \n",
    "    copy_layers = origin_model.layers[:until]\n",
    "    for cur_layer in copy_layers:\n",
    "        ret.append(cur_layer.get_weights())\n",
    "    \n",
    "    return ret"
   ]
  },
  {
   "cell_type": "code",
   "execution_count": 9,
   "metadata": {},
   "outputs": [
    {
     "data": {
      "text/plain": [
       "10"
      ]
     },
     "execution_count": 9,
     "metadata": {},
     "output_type": "execute_result"
    }
   ],
   "source": [
    "origin_layers_weights = get_layers_weights(origin, until=-2)\n",
    "len(origin_layers_weights)"
   ]
  },
  {
   "cell_type": "code",
   "execution_count": 10,
   "metadata": {},
   "outputs": [],
   "source": [
    "class Model2(tf.keras.Model):\n",
    "\n",
    "  def __init__(self, num_classes):\n",
    "    super().__init__()\n",
    "    \n",
    "    self.conv1 = Sequential([\n",
    "      Conv2D(filters=64, kernel_size=3),\n",
    "      BatchNormalization(axis=1),\n",
    "      Activation('elu'),\n",
    "      AveragePooling2D(),\n",
    "      SpatialDropout2D(0.2)\n",
    "    ])\n",
    "    \n",
    "    self.conv2 = Sequential([\n",
    "      Conv2D(filters=64, kernel_size=3, dilation_rate=2),\n",
    "      BatchNormalization(axis=1),\n",
    "      Activation('elu'),\n",
    "      AveragePooling2D(),\n",
    "      SpatialDropout2D(0.2),\n",
    "    ])\n",
    "    \n",
    "    self.cbam = CBAM(64) # sharing\n",
    "    \n",
    "    self.primarycap = PrimaryCap()\n",
    "    self.spatial_attn = SpatialGate()\n",
    "    \n",
    "    self.attention = Attention(use_scale=True)\n",
    "    self.LN = LayerNormalization()\n",
    "    \n",
    "    self.lamb = Lambda(lambda x: tf.multiply(x[0], x[1]))\n",
    "    \n",
    "    self.capsule = Capsule(6,64,3,True)\n",
    "    self.gap = GlobalAveragePooling1D()\n",
    "    \n",
    "    \n",
    "  def call(self, inputs):\n",
    "    x = inputs\n",
    "    \n",
    "    cap = self.conv1(x)\n",
    "    cap = cap + self.cbam(cap)\n",
    "    cap = self.conv2(cap)\n",
    "    cap = cap + self.cbam(cap)\n",
    "    \n",
    "    primarycaps = self.primarycap(cap)\n",
    "    primarycaps = tf.expand_dims(primarycaps, axis=-1)\n",
    "    primarycaps = primarycaps + self.spatial_attn(primarycaps)\n",
    "    primarycaps = tf.squeeze(primarycaps, axis=-1)\n",
    "    \n",
    "    cap = primarycaps\n",
    "    \n",
    "    sa = self.attention([primarycaps, primarycaps, primarycaps])\n",
    "    sa = self.LN(sa)\n",
    "    \n",
    "    sa = tf.expand_dims(sa, axis=-1)\n",
    "    sa = sa + self.spatial_attn(sa)\n",
    "    sa = tf.squeeze(sa, axis=-1)\n",
    "    \n",
    "    cap = self.lamb([cap, sa])\n",
    "    cap = tf.expand_dims(cap, axis=-1)\n",
    "    cap = cap + self.spatial_attn(cap)\n",
    "    cap = tf.squeeze(cap, axis=-1)\n",
    "    \n",
    "    gap = self.gap(cap)\n",
    "    return gap"
   ]
  },
  {
   "cell_type": "code",
   "execution_count": 11,
   "metadata": {},
   "outputs": [],
   "source": [
    "test_model = Model2(len(CLASS_LABELS))\n",
    "test_model.build(input_shape=x_test.shape)"
   ]
  },
  {
   "cell_type": "code",
   "execution_count": 12,
   "metadata": {},
   "outputs": [],
   "source": [
    "test_model_layers = test_model.layers\n",
    "for i, cur_test_layer in enumerate(test_model_layers):\n",
    "    cur_test_layer.set_weights(origin_layers_weights[i])"
   ]
  },
  {
   "cell_type": "code",
   "execution_count": 13,
   "metadata": {},
   "outputs": [],
   "source": [
    "from sklearn.manifold import TSNE\n",
    "import numpy as np\n",
    "from  matplotlib import pyplot as plt"
   ]
  },
  {
   "cell_type": "code",
   "execution_count": 14,
   "metadata": {},
   "outputs": [],
   "source": [
    "features = test_model(x_test, training=False)\n",
    "labels = np.argmax(y_test, axis=1)"
   ]
  },
  {
   "cell_type": "code",
   "execution_count": 15,
   "metadata": {},
   "outputs": [
    {
     "data": {
      "text/plain": [
       "TensorShape([54, 64])"
      ]
     },
     "execution_count": 15,
     "metadata": {},
     "output_type": "execute_result"
    }
   ],
   "source": [
    "features = tf.reshape(features, [features.shape[0], -1])\n",
    "features.shape"
   ]
  },
  {
   "cell_type": "code",
   "execution_count": 16,
   "metadata": {},
   "outputs": [],
   "source": [
    "color_tables = [\"tab:blue\", \"tab:orange\", \"black\", \"tab:red\", \"tab:purple\", \"tab:gray\", \"tab:olive\", \"tab:brown\"]"
   ]
  },
  {
   "cell_type": "code",
   "execution_count": 17,
   "metadata": {},
   "outputs": [
    {
     "data": {
      "text/plain": [
       "array([-2.6497948, -5.317025 ], dtype=float32)"
      ]
     },
     "execution_count": 17,
     "metadata": {},
     "output_type": "execute_result"
    }
   ],
   "source": [
    "color_tables = [color_tables[i] for i in range(len(CLASS_LABELS))]\n",
    "\n",
    "tsne = TSNE(n_components=2, perplexity=50).fit_transform(features)\n",
    "tsne[0]"
   ]
  },
  {
   "cell_type": "code",
   "execution_count": 18,
   "metadata": {},
   "outputs": [],
   "source": [
    "tx = tsne[:, 0]\n",
    "ty = tsne[:, 1]"
   ]
  },
  {
   "cell_type": "code",
   "execution_count": 19,
   "metadata": {},
   "outputs": [
    {
     "data": {
      "image/png": "[encoded data removed]",
      "text/plain": [
       "<Figure size 1000x700 with 1 Axes>"
      ]
     },
     "metadata": {},
     "output_type": "display_data"
    }
   ],
   "source": [
    "fig = plt.figure(figsize=(10,7))\n",
    "ax = fig.add_subplot()\n",
    "\n",
    "classes = CLASS_LABELS\n",
    "\n",
    "for idx, c in enumerate(color_tables):\n",
    "    indices = [i for i, l in enumerate(labels) if idx == l]\n",
    "    cur_tx = np.take(tx, indices)\n",
    "    cur_ty = np.take(ty, indices)\n",
    "    ax.scatter(cur_tx, cur_ty, c=c, label=classes[idx])\n",
    "    \n",
    "ax.legend(loc='best')\n",
    "plt.title(f'remove Dynamic Routing(N={len(labels)})')\n",
    "plt.show()"
   ]
  },
  {
   "cell_type": "code",
   "execution_count": null,
   "metadata": {},
   "outputs": [],
   "source": []
  }
 ],
 "metadata": {
  "kernelspec": {
   "display_name": "ser-tf",
   "language": "python",
   "name": "python3"
  },
  "language_info": {
   "codemirror_mode": {
    "name": "ipython",
    "version": 3
   },
   "file_extension": ".py",
   "mimetype": "text/x-python",
   "name": "python",
   "nbconvert_exporter": "python",
   "pygments_lexer": "ipython3",
   "version": "3.8.15"
  },
  "orig_nbformat": 4
 },
 "nbformat": 4,
 "nbformat_minor": 2
}

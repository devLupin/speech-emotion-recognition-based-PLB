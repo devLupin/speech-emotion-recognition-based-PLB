{
 "cells": [
  {
   "cell_type": "code",
   "execution_count": 1,
   "metadata": {},
   "outputs": [],
   "source": [
    "from silence_tensorflow import silence_tensorflow\n",
    "silence_tensorflow()\n",
    "\n",
    "from tensorflow.keras.layers import Layer, Lambda, Conv2D, Dropout,Dense,Activation,Input,GlobalAveragePooling1D, Concatenate, GlobalAveragePooling2D, LayerNormalization, MaxPool2D\n",
    "from tensorflow.keras.layers import Reshape,Flatten,BatchNormalization,MaxPooling1D,AveragePooling2D,Reshape,Attention, ReLU, Activation, SpatialDropout2D, DepthwiseConv2D\n",
    "from tensorflow.keras.models import Model, Sequential\n",
    "from tensorflow.keras import regularizers\n",
    "from sklearn.model_selection import KFold\n",
    "import keras.backend as K\n",
    "from tensorflow.keras.optimizers import Adam\n",
    "from tqdm.auto import tqdm\n",
    "import os\n",
    "from Config import Config\n",
    "import numpy as np\n",
    "from tensorflow.keras.utils import to_categorical\n",
    "from tensorflow.keras.metrics import Mean, CategoricalAccuracy\n",
    "from sklearn.metrics import classification_report, confusion_matrix, f1_score\n",
    "from datetime import datetime\n",
    "import random\n",
    "import matplotlib.pyplot as plt\n",
    "from tensorflow.keras.losses import CategoricalCrossentropy, MeanSquaredError\n",
    "\n",
    "import tensorflow as tf\n",
    "tf.config.run_functions_eagerly(True)\n",
    "\n",
    "import warnings\n",
    "warnings.filterwarnings('always')\n",
    "\n",
    "from utils import *"
   ]
  },
  {
   "cell_type": "code",
   "execution_count": 2,
   "metadata": {},
   "outputs": [],
   "source": [
    "seed_everything(42)"
   ]
  },
  {
   "cell_type": "code",
   "execution_count": 3,
   "metadata": {},
   "outputs": [],
   "source": [
    "DATA_ROOT = 'TIMNET-dataset'\n",
    "DATA_PATH = 'IEMOCAP'\n",
    "CLASS_LABELS = Config.IEMOCAP_LABELS\n",
    "k = 10\n",
    "\n",
    "# No-reverse : (196,39,1)  ## CA: Channel-attention    ## SA : Self-attention \n",
    "model_name = 'exp1'\n",
    "feature_name = 'mfcc'\n",
    "\n",
    "learning_rate=0.001\n",
    "beta_1=0.975\n",
    "beta_2=0.932\n",
    "epsilon=1e-8\n",
    "\n",
    "EPOCHS = 300\n",
    "BATCH = 32"
   ]
  },
  {
   "cell_type": "code",
   "execution_count": 4,
   "metadata": {},
   "outputs": [],
   "source": [
    "def PrimaryCapssquash(vectors, axis=-1):\n",
    "    \"\"\"\n",
    "        The non-linear activation used in Capsule. It drives the length of a large vector to near 1 and small vector to 0\n",
    "        :param vectors: some vectors to be squashed, N-dim tensor\n",
    "        :param axis: the axis to squash\n",
    "        :return: a Tensor with same shape as input vectors\n",
    "    \"\"\"\n",
    "    s_squared_norm = K.sum(K.square(vectors), axis, keepdims=True)\n",
    "    scale = s_squared_norm / (1 + s_squared_norm) / K.sqrt(s_squared_norm + K.epsilon())\n",
    "    return scale * vectors"
   ]
  },
  {
   "cell_type": "code",
   "execution_count": 5,
   "metadata": {},
   "outputs": [],
   "source": [
    "def DigitCapssquash(Value, axis = -1):\n",
    "    \"\"\"\n",
    "        Squash activation in PrimaryCaps\n",
    "        :return: a Tensor with same shape as input vectors\n",
    "    \"\"\"\n",
    "    Square_Vector = K.sum(K.square(Value), axis, keepdims=True)\n",
    "    Proportion = Square_Vector / (1 + Square_Vector) / K.sqrt(Square_Vector + K.epsilon())\n",
    "    Output = Proportion * Value\n",
    "    return Output"
   ]
  },
  {
   "cell_type": "code",
   "execution_count": 6,
   "metadata": {},
   "outputs": [],
   "source": [
    "def softmax(x, axis=-1):\n",
    "    \"\"\"\n",
    "        softmax in Dynamic Routings\n",
    "    \"\"\" \n",
    "    ex = K.exp(x - K.max(x, axis=axis, keepdims=True))\n",
    "    return ex/K.sum(ex, axis=axis, keepdims=True)"
   ]
  },
  {
   "cell_type": "code",
   "execution_count": 7,
   "metadata": {},
   "outputs": [],
   "source": [
    "class Capsule(tf.keras.layers.Layer):\n",
    "    def __init__(self, num_capsule, dim_capsule, routings=3, share_weights=True, activation='squash', **kwargs):\n",
    "        super(Capsule, self).__init__(**kwargs)\n",
    "        self.num_capsule = num_capsule\n",
    "        self.dim_capsule = dim_capsule\n",
    "        self.routings = routings\n",
    "        self.share_weights = share_weights\n",
    "        self.activation = DigitCapssquash\n",
    "        \n",
    "    def get_config(self):\n",
    "       config = {\"num_capsule\":self.num_capsule,\n",
    "                 \"dim_capsule\":self.dim_capsule,\n",
    "                 \"routings\":self.routings,\n",
    "                 \"share_weights\":self.share_weights,\n",
    "                 \"activation\":self.activation\n",
    "                }\n",
    "       base_config = super(Capsule, self).get_config()\n",
    "       return dict(list(base_config.items()) + list(config.items()))\n",
    "    \n",
    "    def build(self, input_shape):\n",
    "        super(Capsule, self).build(input_shape)\n",
    "        input_dim_capsule = input_shape[-1]\n",
    "        #input_dim_capsule = 8\n",
    "        if self.share_weights:\n",
    "            self.W = self.add_weight(name='capsule_kernel',\n",
    "                                     shape=(1, input_dim_capsule,#input_dim_capsule = 16\n",
    "                                            self.num_capsule * self.dim_capsule), #16*32\n",
    "                                     initializer='glorot_uniform',\n",
    "                                     trainable=True)\n",
    "        else:\n",
    "            input_num_capsule = input_shape[-2]\n",
    "            self.W = self.add_weight(name='capsule_kernel',\n",
    "                                     shape=(input_num_capsule,\n",
    "                                            input_dim_capsule,\n",
    "                                            self.num_capsule * self.dim_capsule),\n",
    "                                     initializer='glorot_uniform',\n",
    "                                     trainable=True)\n",
    "    \n",
    "    def call(self, u_vecs):\n",
    "        if self.share_weights:\n",
    "            u_hat_vecs = K.conv1d(u_vecs, self.W)\n",
    "        else:\n",
    "            u_hat_vecs = K.local_conv1d(u_vecs, self.W, [1], [1])\n",
    "\n",
    "        batch_size = K.shape(u_vecs)[0]\n",
    "        input_num_capsule = K.shape(u_vecs)[1]\n",
    "        u_hat_vecs = K.reshape(u_hat_vecs, (batch_size, input_num_capsule,\n",
    "                                            self.num_capsule, self.dim_capsule))\n",
    "        u_hat_vecs = K.permute_dimensions(u_hat_vecs, (0, 2, 1, 3))\n",
    "\n",
    "        b = K.zeros_like(u_hat_vecs[:,:,:,0])\n",
    "\n",
    "        for i in range(self.routings): #Routings\n",
    "            c = softmax(b, 1)\n",
    "\n",
    "            o = tf.einsum('bin,binj->bij', c, u_hat_vecs)\n",
    "            if K.backend() == 'theano':\n",
    "                o = K.sum(o, axis=1)\n",
    "            if i < self.routings - 1:\n",
    "                o = K.l2_normalize(o, -1)\n",
    "                b = tf.einsum('bij,binj->bin', o, u_hat_vecs)\n",
    "                if K.backend() == 'theano':\n",
    "                    b = K.sum(b, axis=1)\n",
    "\n",
    "        return self.activation(o)\n",
    "\n",
    "    def compute_output_shape(self, input_shape):\n",
    "        return (None, self.num_capsule, self.dim_capsule)"
   ]
  },
  {
   "cell_type": "code",
   "execution_count": 8,
   "metadata": {},
   "outputs": [],
   "source": [
    "class SpatialGate(tf.keras.Model):\n",
    "  def __init__(self):\n",
    "    super(SpatialGate, self).__init__()\n",
    "    kernel_size = 7\n",
    "    self.spatial = Conv2D(filters=1, kernel_size=kernel_size, strides=1, padding='same', use_bias=False)\n",
    "    self.bn = BatchNormalization(momentum=0.01, epsilon=1e-5)\n",
    "    self.relu = Activation('relu')\n",
    "    \n",
    "  def call(self, x):\n",
    "     avg_pool = tf.reduce_mean(x, axis=[3], keepdims=True)\n",
    "     max_pool = tf.reduce_max(x, axis=[3], keepdims=True)\n",
    "     x_compress = tf.concat([avg_pool,max_pool], 3)\n",
    "     \n",
    "     x_out = self.spatial(x_compress)\n",
    "     x_out = self.bn(x_out)\n",
    "     x_out = self.relu(x_out)\n",
    "     \n",
    "     scale = tf.math.sigmoid(x_out) # broadcasting\n",
    "     return x * scale"
   ]
  },
  {
   "cell_type": "code",
   "execution_count": 9,
   "metadata": {},
   "outputs": [],
   "source": [
    "class ChannelGate(tf.keras.Model):\n",
    "\n",
    "  def __init__(self, gate_channels):\n",
    "    super(ChannelGate, self).__init__()\n",
    "    self.gate_channels = gate_channels\n",
    "    self.mlp = Sequential([\n",
    "        Flatten(),\n",
    "        Dense(gate_channels // 2, activation='relu'),\n",
    "        Dense(gate_channels, activation=None)\n",
    "    ])\n",
    "  def call(self, x):\n",
    "    channel_att_sum = None\n",
    "    \n",
    "    avg_pool_layer = AveragePooling2D(pool_size=(x.shape[1], x.shape[2]), strides=(x.shape[1], x.shape[2]))\n",
    "    avg_pool = avg_pool_layer(x)\n",
    "    avg_pool_raw = self.mlp(avg_pool)\n",
    "    max_pool_layer = MaxPool2D(pool_size=(x.shape[1], x.shape[2]), strides=(x.shape[1], x.shape[2]))\n",
    "    max_pool = max_pool_layer(x)\n",
    "    max_pool_raw = self.mlp(max_pool)\n",
    "    \n",
    "    channel_att_sum = avg_pool_raw + max_pool_raw\n",
    "    scale = tf.math.sigmoid(channel_att_sum)\n",
    "    scale = tf.expand_dims(scale, axis=1)\n",
    "    scale = tf.expand_dims(scale, axis=1)\n",
    "    scale = tf.tile(scale, [1, x.shape[1], x.shape[2], 1])  # # expand_as in Pytorch\n",
    "    \n",
    "    return x * scale"
   ]
  },
  {
   "cell_type": "code",
   "execution_count": 10,
   "metadata": {},
   "outputs": [],
   "source": [
    "class CBAM(tf.keras.Model):\n",
    "\n",
    "  def __init__(self, gate_channels):\n",
    "    super(CBAM, self).__init__()\n",
    "    self.ChannelGate = ChannelGate(gate_channels)\n",
    "    self.SpatialGate = SpatialGate()\n",
    "  def call(self, x):\n",
    "    x_out = self.ChannelGate(x)\n",
    "    x_out = self.SpatialGate(x_out)\n",
    "    return x_out"
   ]
  },
  {
   "cell_type": "code",
   "execution_count": 11,
   "metadata": {},
   "outputs": [],
   "source": [
    "class PrimaryCap(tf.keras.Model):\n",
    "\n",
    "  def __init__(self, dim_capsule=64, n_channels=6, kernel_size=3):\n",
    "    super().__init__()\n",
    "    \n",
    "    self.conv = Sequential([\n",
    "        # depthwise-separable Conv2D\n",
    "        DepthwiseConv2D(kernel_size=kernel_size, dilation_rate=(2,2)),\n",
    "        Conv2D(filters=dim_capsule*n_channels, kernel_size=1),\n",
    "        \n",
    "        Reshape(target_shape=[-1, dim_capsule]),\n",
    "        Lambda(function=PrimaryCapssquash)\n",
    "    ])\n",
    "    \n",
    "  def call(self, inputs):\n",
    "    return self.conv(inputs)"
   ]
  },
  {
   "cell_type": "code",
   "execution_count": 12,
   "metadata": {},
   "outputs": [],
   "source": [
    "class Model(tf.keras.Model):\n",
    "\n",
    "  def __init__(self, num_classes):\n",
    "    super().__init__()\n",
    "    \n",
    "    self.conv1 = Sequential([\n",
    "      Conv2D(filters=64, kernel_size=3),\n",
    "      BatchNormalization(axis=1),\n",
    "      Activation('elu'),\n",
    "      AveragePooling2D(),\n",
    "      SpatialDropout2D(0.2)\n",
    "    ])\n",
    "    \n",
    "    self.conv2 = Sequential([\n",
    "      Conv2D(filters=64, kernel_size=3),\n",
    "      BatchNormalization(axis=1),\n",
    "      Activation('elu'),\n",
    "      AveragePooling2D(),\n",
    "      SpatialDropout2D(0.2),\n",
    "    ])\n",
    "    \n",
    "    self.conv3 = Sequential([\n",
    "      Conv2D(filters=64, kernel_size=3, dilation_rate=2),\n",
    "      BatchNormalization(axis=1),\n",
    "      Activation('elu'),\n",
    "      AveragePooling2D(),\n",
    "      SpatialDropout2D(0.2),\n",
    "    ])\n",
    "  \n",
    "    # Q, V, K\n",
    "    self.attention = Attention(use_scale=True)\n",
    "    self.LN = LayerNormalization()\n",
    "    self.lamb = Lambda(lambda x: tf.multiply(x[0], x[1]))\n",
    "    \n",
    "    self.cbam = CBAM(64) # sharing\n",
    "    self.reshape = Reshape(target_shape=[-1, 64])\n",
    "    \n",
    "    self.conv4 = PrimaryCap()\n",
    "    self.spatial_attn = SpatialGate()\n",
    "  \n",
    "    self.capsule = Capsule(6,64,3,True)\n",
    "    self.gap = GlobalAveragePooling1D()\n",
    "    self.dropout = Dropout(0.2)\n",
    "    self.classifier = Dense(num_classes, activation='softmax')\n",
    "    \n",
    "    \n",
    "  def call(self, inputs):\n",
    "    x = inputs\n",
    "    forward = x\n",
    "    backward = tf.reverse(inputs, axis=[2])\n",
    "    \n",
    "    fx = self.conv1(forward)\n",
    "    fx += self.cbam(fx)\n",
    "    bx = self.conv2(backward)\n",
    "    bx += self.cbam(bx)\n",
    "    cross_attn_out = self.attention([fx, bx, bx]) # Q, K==V\n",
    "    fx += cross_attn_out\n",
    "    \n",
    "    fx = self.conv3(fx)\n",
    "    fx += self.cbam(fx)\n",
    "    \n",
    "    cap = self.conv4(fx)\n",
    "    cap = tf.expand_dims(cap, axis=-1)\n",
    "    cap += self.spatial_attn(cap)\n",
    "    cap = tf.squeeze(cap, axis=-1)\n",
    "    \n",
    "    sa = self.attention([cap, cap, cap])\n",
    "    sa = self.LN(sa)\n",
    "    \n",
    "    sa = self.lamb([cap, sa])\n",
    "    sa = tf.expand_dims(sa, axis=-1)\n",
    "    sa += self.spatial_attn(sa)\n",
    "    cap = tf.squeeze(sa, axis=-1)\n",
    "    \n",
    "    capsule = self.capsule(cap)\n",
    "    \n",
    "    gap = self.gap(capsule)\n",
    "    drop = self.dropout(gap)\n",
    "    \n",
    "    output_softmax = self.classifier(drop)\n",
    "    return output_softmax"
   ]
  },
  {
   "cell_type": "code",
   "execution_count": 13,
   "metadata": {},
   "outputs": [
    {
     "name": "stdout",
     "output_type": "stream",
     "text": [
      "Model: \"model\"\n",
      "_________________________________________________________________\n",
      " Layer (type)                Output Shape              Param #   \n",
      "=================================================================\n",
      " sequential (Sequential)     (None, 97, 18, 64)        1416      \n",
      "                                                                 \n",
      " sequential_1 (Sequential)   (None, 97, 18, 64)        1416      \n",
      "                                                                 \n",
      " sequential_2 (Sequential)   (None, 46, 7, 64)         37300     \n",
      "                                                                 \n",
      " attention (Attention)       multiple                  1         \n",
      "                                                                 \n",
      " layer_normalization (LayerN  multiple                 128       \n",
      " ormalization)                                                   \n",
      "                                                                 \n",
      " lambda (Lambda)             multiple                  0         \n",
      "                                                                 \n",
      " cbam (CBAM)                 multiple                  4294      \n",
      "                                                                 \n",
      " reshape (Reshape)           multiple                  0 (unused)\n",
      "                                                                 \n",
      " primary_cap (PrimaryCap)    multiple                  25600     \n",
      "                                                                 \n",
      " spatial_gate_1 (SpatialGate  multiple                 102       \n",
      " )                                                               \n",
      "                                                                 \n",
      " capsule (Capsule)           multiple                  24576     \n",
      "                                                                 \n",
      " global_average_pooling1d (G  multiple                 0         \n",
      " lobalAveragePooling1D)                                          \n",
      "                                                                 \n",
      " dropout (Dropout)           multiple                  0         \n",
      "                                                                 \n",
      " dense_2 (Dense)             multiple                  260       \n",
      "                                                                 \n",
      "=================================================================\n",
      "Total params: 95,093\n",
      "Trainable params: 94,127\n",
      "Non-trainable params: 966\n",
      "_________________________________________________________________\n"
     ]
    }
   ],
   "source": [
    "model = Model(len(CLASS_LABELS))\n",
    "model.build(input_shape=(None, 196, 39, 1))\n",
    "model.summary()"
   ]
  },
  {
   "cell_type": "code",
   "execution_count": 14,
   "metadata": {},
   "outputs": [],
   "source": [
    "def margin_loss(y_true, y_pred):\n",
    "    \"\"\"\n",
    "        Margin Loss\n",
    "        :param y_true: [None, n_classes]\n",
    "        :param y_pred: [None, num_capsule]\n",
    "        :return: a scalar loss value.\n",
    "    \"\"\"\n",
    "    L = y_true * K.square(K.maximum(0., 0.9 - y_pred)) + \\\n",
    "        0.5 * (1 - y_true) * K.square(K.maximum(0., y_pred - 0.1))\n",
    "\n",
    "    return K.mean(K.sum(L, 1))"
   ]
  },
  {
   "cell_type": "code",
   "execution_count": 15,
   "metadata": {},
   "outputs": [],
   "source": [
    "@tf.function\n",
    "def train_step(model, optimizer, x, labels):\n",
    "    with tf.GradientTape() as tape:\n",
    "        # 미분 계산\n",
    "        predictions = model(x, training=True)\n",
    "        loss1 = margin_loss(labels, predictions)\n",
    "        loss2 = MeanSquaredError()(labels, predictions)\n",
    "        \n",
    "        loss = loss1*1. + loss2*0.392\n",
    "        \n",
    "    grad = tape.gradient(loss, model.trainable_variables)\n",
    "    optimizer.apply_gradients(zip(grad, model.trainable_variables))     # 신경망 파라미터 업데이트\n",
    "    \n",
    "    acc = tf.keras.metrics.CategoricalAccuracy()\n",
    "    acc.update_state(labels, predictions)\n",
    "    accuracy = acc.result().numpy()\n",
    "    \n",
    "    return loss, accuracy*100\n",
    "\n",
    "def test_step(model, x, labels):\n",
    "    predictions = model(x)\n",
    "    loss1 = margin_loss(labels, predictions)\n",
    "    loss2 = MeanSquaredError()(labels, predictions)\n",
    "    loss = loss1*1. + loss2*0.392\n",
    "    \n",
    "    acc = tf.keras.metrics.CategoricalAccuracy()\n",
    "    acc.update_state(labels, predictions)\n",
    "    accuracy = acc.result().numpy()\n",
    "    \n",
    "    return loss, accuracy*100, predictions"
   ]
  },
  {
   "cell_type": "code",
   "execution_count": 16,
   "metadata": {},
   "outputs": [],
   "source": [
    "# Read data\n",
    "with open(f'{DATA_ROOT}/{DATA_PATH}.npy', 'rb') as f:\n",
    "    x = np.load(f)\n",
    "    y = np.load(f)\n",
    "\n",
    "y = to_categorical(y,num_classes=len(CLASS_LABELS))"
   ]
  },
  {
   "cell_type": "code",
   "execution_count": 17,
   "metadata": {},
   "outputs": [],
   "source": [
    "LEARNING_RATE_DECAY_PARAMETERS = -0.15\n",
    "LEARNING_RATE_DECAY_STRATPOINT = 50\n",
    "LEARNING_RATE_DECAY_STEP = 20\n",
    "\n",
    "\n",
    "def scheduler(epoch, lr):\n",
    "    if epoch < LEARNING_RATE_DECAY_STRATPOINT:\n",
    "        return lr\n",
    "    else:\n",
    "        if epoch % LEARNING_RATE_DECAY_STEP == 0:\n",
    "            lr = lr * tf.math.exp(LEARNING_RATE_DECAY_PARAMETERS)\n",
    "    return lr"
   ]
  },
  {
   "cell_type": "code",
   "execution_count": 18,
   "metadata": {},
   "outputs": [],
   "source": [
    "# Smooth label operation\n",
    "def smooth_labels(labels, factor=0.1):\n",
    "    \"\"\"\n",
    "        smooth the labels\n",
    "        returned the smoothed labels\n",
    "    \"\"\"\n",
    "    labels *= (1 - factor)\n",
    "    labels += (factor / labels.shape[1])\n",
    "    return labels"
   ]
  },
  {
   "cell_type": "code",
   "execution_count": 19,
   "metadata": {},
   "outputs": [],
   "source": [
    "from discord_notice import start, end\n",
    "# start()"
   ]
  },
  {
   "cell_type": "code",
   "execution_count": 20,
   "metadata": {
    "scrolled": false
   },
   "outputs": [
    {
     "data": {
      "application/vnd.jupyter.widget-view+json": {
       "model_id": "68e322dc65f14641a8c9ad563ef85897",
       "version_major": 2,
       "version_minor": 0
      },
      "text/plain": [
       "A Jupyter Widget"
      ]
     },
     "metadata": {},
     "output_type": "display_data"
    }
   ],
   "source": [
    "import tensorflow_addons as tfa\n",
    "from keras.models import load_model\n",
    "from sklearn.metrics import accuracy_score\n",
    "\n",
    "emotions_groundtruth_list = np.array([])\n",
    "predicted_emotions_list = np.array([])\n",
    "\n",
    "fold_acc = []\n",
    "\n",
    "kfold = KFold(n_splits=k, shuffle=True, random_state=98)\n",
    "\n",
    "for i, (train, test) in tqdm(enumerate(kfold.split(x, y)), desc=f'Training {k}-Fold.....'):\n",
    "    \n",
    "    save_path = f'Models/{DATA_PATH}'\n",
    "    os.makedirs(save_path, exist_ok=True)\n",
    "    h5_path = f'{save_path}/{model_name}_{i}-fold_.h5'\n",
    "    \n",
    "    x_train, y_train = x[train], y[train]\n",
    "    y_train = smooth_labels(y[train], 0.1)\n",
    "    \n",
    "    x_test, y_test = x[test], y[test]\n",
    "    \n",
    "    x_train = tf.expand_dims(x_train, axis=-1)\n",
    "    x_test = tf.expand_dims(x_test, axis=-1)\n",
    "    \n",
    "    shape = x_train.shape[1:]\n",
    "    \n",
    "    batch_train = tf.data.Dataset.from_tensor_slices((x_train, y_train)).shuffle(2022).batch(BATCH)\n",
    "    batch_test = tf.data.Dataset.from_tensor_slices((x_test, y_test)).batch(BATCH)\n",
    "            \n",
    "            \n",
    "    model = Model(len(CLASS_LABELS))\n",
    "    model.build(input_shape=x_train.shape)\n",
    "    model.load_weights(h5_path)\n",
    "    \n",
    "    test_acc = []\n",
    "    \n",
    "    for features, labels in batch_test:\n",
    "        best_pred = model(features, training=False)\n",
    "        emotions_groundtruth_list = np.append(emotions_groundtruth_list, np.argmax(labels, axis=1))\n",
    "        predicted_emotions_list = np.append(predicted_emotions_list, np.argmax(best_pred, axis=1))\n",
    "        y_pred = np.argmax(best_pred, axis=-1)\n",
    "        y_true = np.argmax(labels, axis=-1)\n",
    "        test_acc.append(accuracy_score(y_true, y_pred) * 100)\n",
    "        \n",
    "    acc = sum(test_acc)/len(test_acc)\n",
    "    fold_acc.append(acc)"
   ]
  },
  {
   "cell_type": "code",
   "execution_count": 21,
   "metadata": {},
   "outputs": [
    {
     "name": "stdout",
     "output_type": "stream",
     "text": [
      "max:66.20370370370371, min:63.17515432098766, average:65.2056327160494\n"
     ]
    }
   ],
   "source": [
    "print(f'max:{max(fold_acc)}, min:{min(fold_acc)}, average:{sum(fold_acc)/len(fold_acc)}')"
   ]
  },
  {
   "cell_type": "code",
   "execution_count": 22,
   "metadata": {},
   "outputs": [
    {
     "name": "stdout",
     "output_type": "stream",
     "text": [
      "0-Fold : 64.82638888888889%\n",
      "1-Fold : 64.81481481481482%\n",
      "2-Fold : 66.20370370370371%\n",
      "3-Fold : 65.95293209876543%\n",
      "4-Fold : 65.87577160493828%\n",
      "5-Fold : 63.17515432098766%\n",
      "6-Fold : 64.96913580246913%\n",
      "7-Fold : 65.70216049382717%\n",
      "8-Fold : 64.39043209876543%\n",
      "9-Fold : 66.14583333333333%\n"
     ]
    }
   ],
   "source": [
    "for i, acc in enumerate(fold_acc):\n",
    "    print(f'{i}-Fold : {acc}%')"
   ]
  },
  {
   "cell_type": "code",
   "execution_count": 23,
   "metadata": {},
   "outputs": [
    {
     "name": "stdout",
     "output_type": "stream",
     "text": [
      "              precision    recall  f1-score   support\n",
      "\n",
      "       angry       0.71      0.67      0.69      1103\n",
      "     neutral       0.62      0.65      0.64      1708\n",
      "         sad       0.65      0.72      0.68      1084\n",
      "       happy       0.63      0.58      0.60      1636\n",
      "\n",
      "    accuracy                           0.65      5531\n",
      "   macro avg       0.65      0.66      0.65      5531\n",
      "weighted avg       0.65      0.65      0.65      5531\n",
      "\n"
     ]
    }
   ],
   "source": [
    "import warnings\n",
    "warnings.filterwarnings('always')\n",
    "\n",
    "emotion_names = CLASS_LABELS\n",
    "\n",
    "Report = classification_report(emotions_groundtruth_list, predicted_emotions_list, target_names=emotion_names)\n",
    "\n",
    "os.makedirs(f'Results/{DATA_PATH}', exist_ok=True)\n",
    "report_path = f'Results/{DATA_PATH}/{model_name}_{feature_name}_{k}-fold_nomalize.txt'\n",
    "\n",
    "with open(report_path, \"w\") as f:\n",
    "    f.write(Report)\n",
    "\n",
    "print(Report)"
   ]
  },
  {
   "cell_type": "code",
   "execution_count": 24,
   "metadata": {},
   "outputs": [
    {
     "data": {
      "image/png": "[encoded data removed]",
      "text/plain": [
       "<Figure size 1600x600 with 4 Axes>"
      ]
     },
     "metadata": {},
     "output_type": "display_data"
    }
   ],
   "source": [
    "import pandas as pd\n",
    "import matplotlib.pyplot as plt\n",
    "import seaborn as sn\n",
    "\n",
    "\n",
    "# build confusion matrix and normalized confusion matrix\n",
    "conf_matrix = confusion_matrix(emotions_groundtruth_list, predicted_emotions_list)\n",
    "conf_matrix_norm = confusion_matrix(emotions_groundtruth_list, predicted_emotions_list,normalize='true')\n",
    "\n",
    "# make a confusion matrix with labels using a DataFrame\n",
    "confmatrix_df = pd.DataFrame(conf_matrix, index=emotion_names, columns=emotion_names)\n",
    "confmatrix_df_norm = pd.DataFrame(conf_matrix_norm, index=emotion_names, columns=emotion_names)\n",
    "\n",
    "# plot confusion matrices\n",
    "plt.figure(figsize=(16,6))\n",
    "sn.set(font_scale=1.8) # emotion label and title size\n",
    "plt.subplot(1,2,1)\n",
    "plt.title('Confusion Matrix')\n",
    "sn.heatmap(confmatrix_df, annot=True, annot_kws={\"size\": 13}, fmt='g') #annot_kws is value font\n",
    "plt.subplot(1,2,2)\n",
    "plt.title('Normalized Confusion Matrix')\n",
    "sn.heatmap(confmatrix_df_norm, annot=True, annot_kws={\"size\": 13}) #annot_kws is value font\n",
    "plt.savefig(f'Results/{DATA_PATH}/{model_name}_{feature_name}_{k}-fold_confmatrix.pdf')\n",
    "plt.show()"
   ]
  },
  {
   "cell_type": "code",
   "execution_count": 25,
   "metadata": {},
   "outputs": [
    {
     "name": "stdout",
     "output_type": "stream",
     "text": [
      "WAR(Weighted Average Recall)   : 65.58%\n",
      "UAR(Unweighted Average Recall) : 65.58%\n"
     ]
    }
   ],
   "source": [
    "get_metric_calc(conf_matrix)"
   ]
  }
 ],
 "metadata": {
  "kernelspec": {
   "display_name": "Python 3 (ipykernel)",
   "language": "python",
   "name": "python3"
  },
  "language_info": {
   "codemirror_mode": {
    "name": "ipython",
    "version": 3
   },
   "file_extension": ".py",
   "mimetype": "text/x-python",
   "name": "python",
   "nbconvert_exporter": "python",
   "pygments_lexer": "ipython3",
   "version": "3.8.15"
  },
  "vscode": {
   "interpreter": {
    "hash": "8cc79f3bff38b9826e331232bfe618f732509f3c8555218b497f1264fcaa8b42"
   }
  }
 },
 "nbformat": 4,
 "nbformat_minor": 2
}

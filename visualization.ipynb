{
 "cells": [
  {
   "cell_type": "code",
   "execution_count": 1,
   "metadata": {},
   "outputs": [],
   "source": [
    "from my_models import *\n",
    "from sklearn.manifold import TSNE\n",
    "import numpy as np\n",
    "from  matplotlib import pyplot as plt\n",
    "from Config import Config\n",
    "from tensorflow.keras.utils import to_categorical"
   ]
  },
  {
   "cell_type": "code",
   "execution_count": 2,
   "metadata": {},
   "outputs": [],
   "source": [
    "DATA_ROOT = ''\n",
    "DATA_PATH = ''\n",
    "CLASS_LABELS = Config.RAVDESS_LABELS\n",
    "k = 10\n",
    "\n",
    "h5_path = ''\n",
    "feature_name = 'mfcc'\n",
    "\n",
    "learning_rate=Config.LR\n",
    "beta_1=Config.BETA_1\n",
    "beta_2=Config.BETA_2\n",
    "epsilon=Config.EPS\n",
    "\n",
    "EPOCHS = Config.EPOCHS\n",
    "BATCH = Config.BATCH"
   ]
  },
  {
   "cell_type": "code",
   "execution_count": 3,
   "metadata": {},
   "outputs": [],
   "source": [
    "# Read data\n",
    "with open(f'{DATA_ROOT}/{DATA_PATH}.npy', 'rb') as f:\n",
    "    x = np.load(f)\n",
    "    y = np.load(f)\n",
    "\n",
    "y = to_categorical(y,num_classes=len(CLASS_LABELS))"
   ]
  },
  {
   "cell_type": "code",
   "execution_count": 4,
   "metadata": {},
   "outputs": [],
   "source": [
    "from sklearn.model_selection import KFold\n",
    "import tensorflow as tf\n",
    "\n",
    "x_test = None\n",
    "y_test = None\n",
    "\n",
    "kfold = KFold(n_splits=k, shuffle=True, random_state=98)\n",
    "\n",
    "for (train, test) in kfold.split(x, y):\n",
    "    x_test, y_test = x[test], y[test]\n",
    "    x_test = tf.expand_dims(x_test, axis=-1)\n",
    "    break"
   ]
  },
  {
   "cell_type": "code",
   "execution_count": 5,
   "metadata": {},
   "outputs": [],
   "source": [
    "origin = Model(len(CLASS_LABELS))\n",
    "origin.build(input_shape=x_test.shape)\n",
    "origin.load_weights(h5_path)"
   ]
  },
  {
   "cell_type": "code",
   "execution_count": 6,
   "metadata": {},
   "outputs": [],
   "source": [
    "def get_layers_weights(origin_model, until):\n",
    "    \"\"\"get weights of model\n",
    "\n",
    "    Args:\n",
    "        origin_model (keras.Model): Original model (+weights)\n",
    "        until (int): Index of wanted final layer\n",
    "\n",
    "    Returns:\n",
    "        list: weights for each layer\n",
    "    \"\"\"\n",
    "    \n",
    "    ret = []\n",
    "    \n",
    "    copy_layers = origin_model.layers[:until]\n",
    "    for cur_layer in copy_layers:\n",
    "        ret.append(cur_layer.get_weights())\n",
    "    \n",
    "    return ret"
   ]
  },
  {
   "cell_type": "code",
   "execution_count": 7,
   "metadata": {},
   "outputs": [],
   "source": [
    "origin_layers_weights = get_layers_weights(origin, until=-3)"
   ]
  },
  {
   "cell_type": "code",
   "execution_count": 9,
   "metadata": {},
   "outputs": [],
   "source": [
    "test_model = Model2(len(CLASS_LABELS))\n",
    "test_model.build(input_shape=x_test.shape)"
   ]
  },
  {
   "cell_type": "code",
   "execution_count": 10,
   "metadata": {},
   "outputs": [],
   "source": [
    "test_model_layers = test_model.layers\n",
    "for i, cur_test_layer in enumerate(test_model_layers):\n",
    "    cur_test_layer.set_weights(origin_layers_weights[i])"
   ]
  },
  {
   "cell_type": "code",
   "execution_count": 11,
   "metadata": {},
   "outputs": [
    {
     "name": "stdout",
     "output_type": "stream",
     "text": [
      "tf.Tensor(\n",
      "[[[-0.14912269 -0.369866    0.09946968 ... -0.0141987  -0.03412911\n",
      "   -0.5156893 ]\n",
      "  [-0.18551564  0.11585237  0.13074192 ... -0.06841514  0.12432949\n",
      "   -0.20623758]\n",
      "  [-0.16481635 -0.10430894  0.08677782 ... -0.2754196   0.0150083\n",
      "   -0.49919906]\n",
      "  [-0.20427063 -0.20570779  0.17916486 ...  0.02733971 -0.17462689\n",
      "   -0.26186895]\n",
      "  [-0.29910025  0.23996413 -0.00325908 ... -0.19769093 -0.0368591\n",
      "    0.23208445]\n",
      "  [-0.11909958  0.21845171 -0.06637171 ... -0.1699413  -0.00907672\n",
      "   -0.07459307]]\n",
      "\n",
      " [[ 0.21511136 -0.03837761  0.02199976 ...  0.27658638  0.00354105\n",
      "    0.35775375]\n",
      "  [ 0.09731393  0.34133822  0.05633474 ... -0.22822872  0.11266917\n",
      "   -0.0131054 ]\n",
      "  [ 0.1491434   0.4467044  -0.1292635  ...  0.1368583   0.19754949\n",
      "    0.05897012]\n",
      "  [ 0.15638027 -0.08815068 -0.34406325 ...  0.13796254 -0.20561704\n",
      "    0.13539708]\n",
      "  [-0.18490602  0.2671858   0.01129091 ... -0.19687413 -0.06091921\n",
      "    0.27848244]\n",
      "  [ 0.03618377  0.19155489 -0.03869793 ... -0.1991206  -0.06489649\n",
      "   -0.038704  ]]\n",
      "\n",
      " [[-0.08498693 -0.03998964 -0.01874724 ... -0.14297356  0.27614546\n",
      "    0.09672929]\n",
      "  [-0.0427493   0.12127234  0.08194739 ... -0.15063788  0.02340817\n",
      "   -0.03118871]\n",
      "  [-0.15127346  0.10084029  0.19822934 ... -0.28666544  0.20412368\n",
      "   -0.2862182 ]\n",
      "  [ 0.0945494  -0.06398609 -0.09238509 ... -0.28141207 -0.10711275\n",
      "   -0.2218771 ]\n",
      "  [-0.11657059  0.15905266  0.3591708  ... -0.2757321   0.15245911\n",
      "   -0.03977918]\n",
      "  [-0.17303215  0.10897847  0.08581217 ... -0.21119791 -0.04277414\n",
      "   -0.05629197]]\n",
      "\n",
      " ...\n",
      "\n",
      " [[ 0.31686693  0.15755755  0.09848513 ...  0.1969517   0.01635123\n",
      "    0.11026897]\n",
      "  [ 0.37559333  0.223383    0.3675316  ... -0.01743211 -0.04099527\n",
      "   -0.21701686]\n",
      "  [ 0.15664469  0.14430982  0.19628969 ...  0.03291836  0.04154042\n",
      "   -0.11851954]\n",
      "  [ 0.0404075   0.01398919  0.16078408 ...  0.28913707 -0.21886791\n",
      "    0.02872516]\n",
      "  [ 0.07086203 -0.1925096   0.3135581  ...  0.0175301  -0.10565954\n",
      "   -0.5962076 ]\n",
      "  [ 0.30225757  0.02267956  0.23527232 ...  0.13970554  0.22948563\n",
      "   -0.07951501]]\n",
      "\n",
      " [[-0.05477116  0.19922023  0.15818918 ...  0.51028746  0.25985622\n",
      "    0.413526  ]\n",
      "  [ 0.00198527  0.27040175  0.26266873 ...  0.4126702  -0.08036415\n",
      "    0.16987972]\n",
      "  [-0.21431577  0.27144176  0.12556084 ...  0.48144984  0.08979657\n",
      "    0.19060636]\n",
      "  [-0.37668073  0.02748698  0.07281017 ...  0.24368075  0.0645209\n",
      "    0.10133826]\n",
      "  [-0.25993484  0.08987646  0.30568653 ...  0.18260852 -0.09266466\n",
      "    0.10357375]\n",
      "  [-0.31717896  0.17121759  0.5139179  ...  0.3872397   0.12446301\n",
      "   -0.03865564]]\n",
      "\n",
      " [[ 0.02407678  0.20499027  0.2194328  ... -0.065033    0.3431217\n",
      "   -0.1648907 ]\n",
      "  [ 0.01885545  0.0479335   0.21134874 ... -0.173307   -0.11297403\n",
      "   -0.16486034]\n",
      "  [ 0.05792274  0.22339034  0.19615936 ... -0.11501786  0.23470666\n",
      "   -0.24811567]\n",
      "  [ 0.36961883  0.3348039  -0.07608861 ... -0.05503456  0.16906288\n",
      "   -0.04177745]\n",
      "  [-0.02385541  0.13769662  0.2345702  ... -0.3385766   0.25775757\n",
      "   -0.20630331]\n",
      "  [-0.24327494  0.23388955  0.36087814 ...  0.01042737  0.20474032\n",
      "   -0.26360062]]], shape=(144, 6, 64), dtype=float32)\n"
     ]
    }
   ],
   "source": [
    "predictions = test_model(x_test, training=False)\n",
    "print(predictions)"
   ]
  },
  {
   "cell_type": "code",
   "execution_count": 12,
   "metadata": {},
   "outputs": [
    {
     "data": {
      "text/plain": [
       "144"
      ]
     },
     "execution_count": 12,
     "metadata": {},
     "output_type": "execute_result"
    }
   ],
   "source": [
    "len(predictions)"
   ]
  },
  {
   "cell_type": "code",
   "execution_count": null,
   "metadata": {},
   "outputs": [],
   "source": []
  }
 ],
 "metadata": {
  "kernelspec": {
   "display_name": "ser-tf",
   "language": "python",
   "name": "python3"
  },
  "language_info": {
   "codemirror_mode": {
    "name": "ipython",
    "version": 3
   },
   "file_extension": ".py",
   "mimetype": "text/x-python",
   "name": "python",
   "nbconvert_exporter": "python",
   "pygments_lexer": "ipython3",
   "version": "3.8.15"
  },
  "orig_nbformat": 4
 },
 "nbformat": 4,
 "nbformat_minor": 2
}
